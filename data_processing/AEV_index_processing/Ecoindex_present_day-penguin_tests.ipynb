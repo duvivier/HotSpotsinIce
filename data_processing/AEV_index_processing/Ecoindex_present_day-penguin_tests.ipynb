{
 "cells": [
  {
   "cell_type": "markdown",
   "id": "0aba09cd-b214-4c83-8721-812e9996aba6",
   "metadata": {},
   "source": [
    "# Ecological Index - penguin weighting experiments\n",
    "- Calculate \"present day\" ecological index values from CESM2 hindcast MARBL NPP, KGP, & FEISTY (demersal only), and satellite derivations of penguin (EP and AP).\n",
    "- Notebook by Alice DuVivier (NCAR)\n",
    "- Note: this notebook needs to load the utils.py file\n",
    "- July 2025"
   ]
  },
  {
   "cell_type": "code",
   "execution_count": null,
   "id": "11e6da89-42f1-403e-8257-06b03e5b2f81",
   "metadata": {},
   "outputs": [],
   "source": [
    "import utils\n",
    "import xarray as xr\n",
    "import numpy as np\n",
    "from datetime import datetime\n",
    "import matplotlib.pyplot as plt\n",
    "import matplotlib.path as mpath\n",
    "import cartopy\n",
    "import cartopy.crs as ccrs\n",
    "import cmocean\n",
    "import geopandas as gpd\n",
    "import warnings\n",
    "warnings.filterwarnings('ignore')"
   ]
  },
  {
   "cell_type": "markdown",
   "id": "6c16d7a5-5363-4c23-8d15-3044607dacba",
   "metadata": {},
   "source": [
    "## How to make ecoindex\n",
    "\n",
    "- Verify that spatial dimensions (lat/lon) are identical for each input\n",
    "- Use the JRA55 1deg hindcast data (Krumhardt et al. 2024 - in review) that has been validated for BGC and sea ice for the CESM2 hindcast data.\n",
    "- \"Present day\" index covers a range of current conditions in observations. Thus, for CESM hindcast data use averages from 2000-2020 for the inputs.\n",
    "- Calculate ecoindex by summing all inputs. We've weighted each input equally, but could do sums of just some inputs of value (e.g. MARBL only, FEISTY + MARBL, PENGINS only).\n",
    "- Only need CCAMLR MPA regions: 1 (Peninsula), 3 (Weddell), 4 (E Weddell), 7 (E. Ant), 8 (Ross), 9 (Bellingshausen and Amundsen)\n",
    "- Check and test both global and regional scaling **for the EcoIndex only** (not inputs), so each region should have an ecoindex of 1 that shows the maximum *in that region*. We want to see most valuable regions around whole continent and within regions.  This is relevant because management is done regionally by CCAMLR.\n",
    "- We use maximum value to scale so that the range is 0-1 for Ecoindex. We also tried scaling by median but that didn't really change where was most valuable, just the scaling, so stick with maximum value for ease of communication.\n"
   ]
  },
  {
   "cell_type": "markdown",
   "id": "7095b069-a4b7-4db4-adba-320b4d7a88e2",
   "metadata": {},
   "source": [
    "## Load data"
   ]
  },
  {
   "cell_type": "markdown",
   "id": "24503f70-2e92-4879-a5b8-c15cd6a034c0",
   "metadata": {},
   "source": [
    "We're slicing the data so it conforms to this latitude range in the southern hemisphere\n",
    "- lat_min = -80\n",
    "- lat_max = -60"
   ]
  },
  {
   "cell_type": "markdown",
   "id": "89e69422-69bb-4080-9c70-1e667b54e98b",
   "metadata": {},
   "source": [
    "### Load grid and mask data"
   ]
  },
  {
   "cell_type": "code",
   "execution_count": null,
   "id": "9d029a24-d62b-4ad0-baac-2e25d71f1205",
   "metadata": {},
   "outputs": [],
   "source": [
    "# directory path\n",
    "dir_in = '/glade/u/home/duvivier/masks/'"
   ]
  },
  {
   "cell_type": "code",
   "execution_count": null,
   "id": "82357292-8abd-4fd4-a552-0c1d3205d423",
   "metadata": {},
   "outputs": [],
   "source": [
    "# load ocean grid\n",
    "fin = 'ocn_grid_gx1v7.nc'\n",
    "ds_grid = xr.open_mfdataset(dir_in+fin,decode_times=False)\n",
    "ds_grid['nlat'] = ds_grid.nlat\n",
    "ds_grid['nlon'] = ds_grid.nlon\n",
    "ds_grid\n",
    "\n",
    "# load sea ice masks\n",
    "fin = 'REGION_MASK_gx1v7.nc'\n",
    "ds_mask = xr.open_mfdataset(dir_in+fin,decode_times=False)\n",
    "ds_mask = ds_mask.isel(time=0)\n",
    "ds_mask = ds_mask.rename({'lat':'nlat','lon': 'nlon'})\n",
    "ds_mask['nlat'] = ds_grid.nlat\n",
    "ds_mask['nlon'] = ds_grid.nlon\n",
    "ds_mask"
   ]
  },
  {
   "cell_type": "code",
   "execution_count": null,
   "id": "459e4f7c-b0f1-4722-a0b8-3a6bd6ae0968",
   "metadata": {},
   "outputs": [],
   "source": [
    "## Enter the latitudes you want to keep:\n",
    "lat_min = -80\n",
    "lat_max = -60"
   ]
  },
  {
   "cell_type": "code",
   "execution_count": null,
   "id": "2d05750a-86fa-482e-9b75-fb5b359f7b8a",
   "metadata": {},
   "outputs": [],
   "source": [
    "# crop data to the latitudes we want, use given lat/lon, not specific indices\n",
    "ds_grid = ds_grid.where(((ds_grid['TLAT'] <= lat_max) & (ds_grid['TLAT'] >= lat_min)), drop=True)\n",
    "ds_mask = ds_mask.where(((ds_grid['TLAT'] <= lat_max) & (ds_grid['TLAT'] >= lat_min)), drop=True)"
   ]
  },
  {
   "cell_type": "code",
   "execution_count": null,
   "id": "a997fe7e-458d-4946-a905-38b8a866376b",
   "metadata": {},
   "outputs": [],
   "source": [
    "# Read in \n",
    "dir_in = '/glade/campaign/cgd/ppc/duvivier/cesm2_antarctic_polynya/mpa_analysis/DATA/'\n",
    "# Read in CCAMLR planning domain masks\n",
    "file_in = 'CCAMLR_masks/CESM_gx1v7_CCAMLR_masks_v8_10102024.nc'\n",
    "ds_ccamlr= xr.open_mfdataset(dir_in+file_in,decode_times=False)\n",
    "#ds_ccamlr = ds_ccamlr.rename({'lat':'nlat','lon': 'nlon'})\n",
    "ds_ccamlr = ds_ccamlr.isel(nlat=slice(0,36))\n",
    "\n",
    "# keep just masks of interest (MPA planning areas, polynya regions, coastal)\n",
    "ccamlr_in = ['mpa_plan_1','mpa_plan_2', 'mpa_plan_3', 'mpa_plan_4', 'mpa_plan_5', 'mpa_plan_6', 'mpa_plan_7','mpa_plan_8','mpa_plan_9','mpa_plan_1_mod','mpa_plan_3_mod','mpa_plan_4_mod','mpa_plan_3_4','mpa_plan_7_mod']\n",
    "ccamlr_masks = ds_ccamlr[ccamlr_in]\n",
    "\n",
    "# now load in the different masks as a new coordinate\n",
    "ccamlr_masks = xr.concat([ds_ccamlr.mpa_plan_1, ds_ccamlr.mpa_plan_2, ds_ccamlr.mpa_plan_3,\n",
    "                          ds_ccamlr.mpa_plan_4, ds_ccamlr.mpa_plan_5, ds_ccamlr.mpa_plan_6,\n",
    "                          ds_ccamlr.mpa_plan_7, ds_ccamlr.mpa_plan_8, ds_ccamlr.mpa_plan_9,\n",
    "                          ds_ccamlr.mpa_plan_1_mod, ds_ccamlr.mpa_plan_3_mod, ds_ccamlr.mpa_plan_4_mod, \n",
    "                          ds_ccamlr.mpa_plan_3_4, ds_ccamlr.mpa_plan_7_mod],\n",
    "                         dim='region')\n",
    "ccamlr_masks['region']=ccamlr_in\n"
   ]
  },
  {
   "cell_type": "markdown",
   "id": "f77a8495-7421-4b26-aabc-86457e9f131d",
   "metadata": {},
   "source": [
    "### Load the CESM2 hindcast sea ice zone data\n",
    "- This is needed to mask the CESM2 hindcast based data so we find maximum **only within the SIZ** (want to mask high NPP north of ACC)"
   ]
  },
  {
   "cell_type": "code",
   "execution_count": null,
   "id": "a3c52e7a-f20e-4bfd-bc49-0d45d57c75be",
   "metadata": {},
   "outputs": [],
   "source": [
    "path_in = '/glade/campaign/cgd/ppc/duvivier/cesm2_antarctic_polynya/mpa_analysis/DATA/ecoindex_data/environment/'"
   ]
  },
  {
   "cell_type": "code",
   "execution_count": null,
   "id": "7dd02e84-a722-44b2-befc-ed9258f4c99a",
   "metadata": {},
   "outputs": [],
   "source": [
    "# load SIZ\n",
    "file_in = 'CESM2-JRA55-hindcast-SIZ.nc'\n",
    "ds_siz = xr.open_dataset(path_in+file_in, decode_times=True)"
   ]
  },
  {
   "cell_type": "code",
   "execution_count": null,
   "id": "eed98666-effa-4646-852c-7be75a882e77",
   "metadata": {},
   "outputs": [],
   "source": [
    "#check time index\n",
    "ds_siz.isel(time=slice(42,63)).time"
   ]
  },
  {
   "cell_type": "markdown",
   "id": "9dd8e3ee-b4a4-474b-9dfa-a5ccb826ce98",
   "metadata": {},
   "source": [
    "### Load Net Primary Productivity (NPP) data"
   ]
  },
  {
   "cell_type": "code",
   "execution_count": null,
   "id": "1115bbc8-4146-4879-97ea-0a9bb4fa0f7d",
   "metadata": {},
   "outputs": [],
   "source": [
    "path_in = '/glade/campaign/cgd/ppc/duvivier/cesm2_antarctic_polynya/mpa_analysis/DATA/ecoindex_data/marbl/'"
   ]
  },
  {
   "cell_type": "code",
   "execution_count": null,
   "id": "9dab6f0d-2913-40f5-9c73-530d63f5faec",
   "metadata": {},
   "outputs": [],
   "source": [
    "# load NPP\n",
    "file_in = 'CESM2-JRA55-hindcast-seasonal-integrals-NPP.nc'\n",
    "ds_npp = xr.open_dataset(path_in+file_in, decode_times=True)\n",
    "\n",
    "# use entire growth season\n",
    "npp = ds_npp.NPP_ONDJFM"
   ]
  },
  {
   "cell_type": "code",
   "execution_count": null,
   "id": "cad4d72f-341b-4692-8849-6908ca2c98b8",
   "metadata": {},
   "outputs": [],
   "source": [
    "# keep only points in the SIZ by year\n",
    "npp_mask = npp.where(ds_siz.SIZ_SEP == 1)"
   ]
  },
  {
   "cell_type": "code",
   "execution_count": null,
   "id": "f9fd5913-e82f-4d94-8985-d18cf8641428",
   "metadata": {},
   "outputs": [],
   "source": [
    "# scale this yearly data by maximum value in whole domain\n",
    "data = npp_mask\n",
    "scale_value = data.max(dim=['nlat','nlon'])\n",
    "npp_scaled = data/scale_value\n",
    "\n",
    "# mask to omit land points\n",
    "npp_scaled = npp_scaled.where(ds_grid.REGION_MASK == 1)"
   ]
  },
  {
   "cell_type": "code",
   "execution_count": null,
   "id": "24e48a79-282b-4fbb-8574-4de0b360370a",
   "metadata": {},
   "outputs": [],
   "source": [
    "# do averaging from 2000-2020\n",
    "npp_scaled = npp_scaled.isel(time=slice(42,63)).mean(dim='time')"
   ]
  },
  {
   "cell_type": "code",
   "execution_count": null,
   "id": "a7bab706-d92e-4a76-bb52-c35b05bf462a",
   "metadata": {},
   "outputs": [],
   "source": [
    "npp_scaled.plot()"
   ]
  },
  {
   "cell_type": "markdown",
   "id": "8c3b91f3-24fb-42d3-849b-2e7939e31d1e",
   "metadata": {},
   "source": [
    "### Load Krill Growth Potential (KGP) data"
   ]
  },
  {
   "cell_type": "code",
   "execution_count": null,
   "id": "f7f9faa6-19b8-485d-8081-2066ff72c5ee",
   "metadata": {},
   "outputs": [],
   "source": [
    "path_in = '/glade/campaign/cgd/ppc/duvivier/cesm2_antarctic_polynya/mpa_analysis/DATA/ecoindex_data/marbl/'"
   ]
  },
  {
   "cell_type": "code",
   "execution_count": null,
   "id": "26e23aab-da1a-4bc7-a4bb-b17185b088c7",
   "metadata": {},
   "outputs": [],
   "source": [
    "# load KGP\n",
    "file_in = 'CESM2-JRA55-hindcast-seasonal-integrals-KGP.nc'\n",
    "ds_kgp = xr.open_dataset(path_in+file_in, decode_times=True)\n",
    "\n",
    "# use entire growth season\n",
    "kgp = ds_kgp.KGP_ONDJFM"
   ]
  },
  {
   "cell_type": "code",
   "execution_count": null,
   "id": "a8e3c147-8714-44de-8d41-7ac7c0763534",
   "metadata": {},
   "outputs": [],
   "source": [
    "# keep only points in the SIZ by year\n",
    "kgp_mask = kgp.where(ds_siz.SIZ_SEP == 1)"
   ]
  },
  {
   "cell_type": "code",
   "execution_count": null,
   "id": "499ad1f8-87ea-45dc-9658-5ed4e7277f3b",
   "metadata": {},
   "outputs": [],
   "source": [
    "# scale this yearly data by maximum value in whole domain\n",
    "data = kgp_mask\n",
    "scale_value = data.max(dim=['nlat','nlon'])\n",
    "kgp_scaled = data/scale_value\n",
    "\n",
    "# mask to omit land points\n",
    "kgp_scaled = kgp_scaled.where(ds_grid.REGION_MASK == 1)"
   ]
  },
  {
   "cell_type": "code",
   "execution_count": null,
   "id": "fddeaae9-1756-4bc3-aba7-49b850378cc4",
   "metadata": {},
   "outputs": [],
   "source": [
    "# do averaging from 2000-2020\n",
    "kgp_scaled = kgp_scaled.isel(time=slice(42,63)).mean(dim='time')"
   ]
  },
  {
   "cell_type": "code",
   "execution_count": null,
   "id": "ce2c6ae0-68c5-49e6-94a0-a8e2e5b5e63f",
   "metadata": {},
   "outputs": [],
   "source": [
    "kgp_scaled.plot()"
   ]
  },
  {
   "cell_type": "markdown",
   "id": "3a2a3dc1-9470-41d7-a3e1-167aa52e1b7e",
   "metadata": {},
   "source": [
    "### Load FEISTY fish data (use demersal fish layer only)"
   ]
  },
  {
   "cell_type": "code",
   "execution_count": null,
   "id": "6f7e6ba3-79ff-4864-adba-3ad705aa1a69",
   "metadata": {},
   "outputs": [],
   "source": [
    "path_in = '/glade/campaign/cgd/ppc/duvivier/cesm2_antarctic_polynya/mpa_analysis/DATA/ecoindex_data/marbl/'"
   ]
  },
  {
   "cell_type": "code",
   "execution_count": null,
   "id": "563107fe-a8dc-44fd-be5f-c936cea85464",
   "metadata": {},
   "outputs": [],
   "source": [
    "# load FIESTY data\n",
    "file_in = 'CESM2-JRA55-hindcast-annual-mean-FEISTY.nc'\n",
    "ds_feisty = xr.open_dataset(path_in+file_in, decode_times=True)\n",
    "\n",
    "# use entire growth season\n",
    "demersal = ds_feisty.Demersal"
   ]
  },
  {
   "cell_type": "code",
   "execution_count": null,
   "id": "ff4fc06c-9e28-470b-858b-71b9e6fde1f9",
   "metadata": {},
   "outputs": [],
   "source": [
    "# keep only points in the SIZ by year\n",
    "demersal_mask = demersal.where(ds_siz.SIZ_SEP == 1)"
   ]
  },
  {
   "cell_type": "code",
   "execution_count": null,
   "id": "90c38d12-920d-4c49-b0e1-2b80125dc03b",
   "metadata": {},
   "outputs": [],
   "source": [
    "# scale this yearly data by maximum value in whole domain\n",
    "data = demersal_mask\n",
    "scale_value = data.max(dim=['nlat','nlon'])\n",
    "demersal_scaled = data/scale_value\n",
    "\n",
    "# mask to omit land points\n",
    "demersal_scaled = demersal_scaled.where(ds_grid.REGION_MASK == 1)"
   ]
  },
  {
   "cell_type": "code",
   "execution_count": null,
   "id": "3dea925f-0061-47d3-b57c-f13e838d8dfd",
   "metadata": {},
   "outputs": [],
   "source": [
    "# do averaging from 2000-2020\n",
    "demersal_scaled = demersal_scaled.isel(time=slice(42,63)).mean(dim='time')"
   ]
  },
  {
   "cell_type": "code",
   "execution_count": null,
   "id": "35d2b27d-a7a2-463a-acba-aafab2d5b0d8",
   "metadata": {
    "scrolled": true
   },
   "outputs": [],
   "source": [
    "demersal_scaled.plot()"
   ]
  },
  {
   "cell_type": "markdown",
   "id": "29ec13e8-ec9e-4417-842b-f2a9061cfede",
   "metadata": {},
   "source": [
    "### Load the Emperor Penguin data\n",
    "\n",
    "- Use the present day satellite based estimates # individuals (Larue et al. 2024, https://doi.org/10.1098/rspb.2023.2067)\n",
    "- Calculated accessibility by using average foraging distance and having exponential decay from each colony"
   ]
  },
  {
   "cell_type": "code",
   "execution_count": null,
   "id": "3642cca5-6987-47ee-83c5-94759c7561fe",
   "metadata": {},
   "outputs": [],
   "source": [
    "path_in = '/glade/campaign/cgd/ppc/duvivier/cesm2_antarctic_polynya/mpa_analysis/DATA/ecoindex_data/penguin/'"
   ]
  },
  {
   "cell_type": "code",
   "execution_count": null,
   "id": "529f6bb8-c114-4878-b22f-ac5d6197961e",
   "metadata": {},
   "outputs": [],
   "source": [
    "# load Emperor Penguin distances\n",
    "file_in = 'CESM_grid_Emperor_individual_access_present_day.nc'\n",
    "ds_ep = xr.open_dataset(path_in+file_in, decode_times=True)"
   ]
  },
  {
   "cell_type": "code",
   "execution_count": null,
   "id": "dba49c83-7728-4c76-86df-8897f569fab5",
   "metadata": {},
   "outputs": [],
   "source": [
    "total_ep = ds_ep.total_penguins"
   ]
  },
  {
   "cell_type": "code",
   "execution_count": null,
   "id": "2fbab62a-4c85-4978-b907-d90ff88d92f0",
   "metadata": {},
   "outputs": [],
   "source": [
    "# scale this data by maximum value in whole domain\n",
    "data = total_ep\n",
    "scale_value = data.max(dim=['nlat','nlon'])\n",
    "ep_scaled = data/scale_value\n",
    "\n",
    "# mask to omit land points\n",
    "ep_scaled = ep_scaled.where(ds_grid.REGION_MASK == 1)"
   ]
  },
  {
   "cell_type": "code",
   "execution_count": null,
   "id": "b60599bb-f41c-4830-8abc-55ccf41fe36a",
   "metadata": {},
   "outputs": [],
   "source": [
    "ep_scaled.plot()"
   ]
  },
  {
   "cell_type": "markdown",
   "id": "4b753a63-b942-4558-946c-872d5abc8fb6",
   "metadata": {},
   "source": [
    "### Load the Adelie Penguin data\n",
    "\n",
    "- Use the present day satellite based estimates # individuals (Lynch and LaRue 2014, https://doi.org/10.1642/AUK-14-31.1).\n",
    "- Calculated accessibility by using maximum dispersal distance and having exponential decay from each colony"
   ]
  },
  {
   "cell_type": "code",
   "execution_count": null,
   "id": "7ca8dbfb-a595-4e1b-ba8b-a283e5b74442",
   "metadata": {},
   "outputs": [],
   "source": [
    "path_in = '/glade/campaign/cgd/ppc/duvivier/cesm2_antarctic_polynya/mpa_analysis/DATA/ecoindex_data/penguin/'"
   ]
  },
  {
   "cell_type": "code",
   "execution_count": null,
   "id": "9ddadaf9-57b7-4658-a915-d139f44f0503",
   "metadata": {},
   "outputs": [],
   "source": [
    "# load Adelie Penguin distances\n",
    "file_in = 'CESM_grid_Adelie_individual_access_present_day.nc'\n",
    "ds_ap = xr.open_dataset(path_in+file_in, decode_times=True)"
   ]
  },
  {
   "cell_type": "code",
   "execution_count": null,
   "id": "0772c3f7-a443-4c15-8765-953e10c66015",
   "metadata": {},
   "outputs": [],
   "source": [
    "total_ap = ds_ap.total_penguins"
   ]
  },
  {
   "cell_type": "code",
   "execution_count": null,
   "id": "ce465124-86f7-482c-97ef-1d6f6edf9176",
   "metadata": {},
   "outputs": [],
   "source": [
    "# scale this data by maximum value in whole domain\n",
    "data = total_ap\n",
    "scale_value = data.max(dim=['nlat','nlon'])\n",
    "ap_scaled = data/scale_value\n",
    "\n",
    "# mask to omit land points\n",
    "ap_scaled = ap_scaled.where(ds_grid.REGION_MASK == 1)"
   ]
  },
  {
   "cell_type": "code",
   "execution_count": null,
   "id": "5e4bd5c8-2197-4bad-9f8c-e8c072379e78",
   "metadata": {},
   "outputs": [],
   "source": [
    "ap_scaled.plot()"
   ]
  },
  {
   "cell_type": "markdown",
   "id": "dca913a9-743b-4303-9207-673c680539fa",
   "metadata": {},
   "source": [
    "## Make ecoindex\n",
    "- Calculate ecoindex by summing all inputs"
   ]
  },
  {
   "cell_type": "code",
   "execution_count": null,
   "id": "fb95ebb7-769a-462f-9a28-688ede6e0763",
   "metadata": {},
   "outputs": [],
   "source": [
    "# sum all inputs\n",
    "ecoind_raw = npp_scaled + kgp_scaled + demersal_scaled + ep_scaled + ap_scaled"
   ]
  },
  {
   "cell_type": "code",
   "execution_count": null,
   "id": "339c8101-edad-4c5e-b407-282e99724487",
   "metadata": {},
   "outputs": [],
   "source": [
    "ecoind_raw.plot()"
   ]
  },
  {
   "cell_type": "code",
   "execution_count": null,
   "id": "c999a080-f114-4c38-9dd0-5b494d26a556",
   "metadata": {},
   "outputs": [],
   "source": [
    "# sum all inputs - do weightings of 0.5 for each penguin species\n",
    "ecoind_raw_half_penguin = npp_scaled + kgp_scaled + demersal_scaled + (0.5* ep_scaled) + (0.5 * ap_scaled)"
   ]
  },
  {
   "cell_type": "code",
   "execution_count": null,
   "id": "df51f28d-6074-486c-8e75-9a41dd63bfec",
   "metadata": {},
   "outputs": [],
   "source": [
    "ecoind_raw_half_penguin.plot()"
   ]
  },
  {
   "cell_type": "code",
   "execution_count": null,
   "id": "92e6c5ae-31ce-41f3-8f67-7f20c4d5ef02",
   "metadata": {},
   "outputs": [],
   "source": [
    "# sum all inputs - include only emperor penguins\n",
    "ecoind_raw_emperor = npp_scaled + kgp_scaled + demersal_scaled + ep_scaled"
   ]
  },
  {
   "cell_type": "code",
   "execution_count": null,
   "id": "76ee2de4-ff33-49ce-aa9f-e19a1d3d16d9",
   "metadata": {},
   "outputs": [],
   "source": [
    "ecoind_raw_emperor.plot()"
   ]
  },
  {
   "cell_type": "code",
   "execution_count": null,
   "id": "d39a2443-a4d9-48bd-9d9b-d186e97b1b42",
   "metadata": {},
   "outputs": [],
   "source": [
    "# sum all inputs - include only emperor penguins\n",
    "ecoind_raw_adelie = npp_scaled + kgp_scaled + demersal_scaled + ap_scaled"
   ]
  },
  {
   "cell_type": "code",
   "execution_count": null,
   "id": "633a547a-be1c-456e-b7e6-e030a080d7b5",
   "metadata": {},
   "outputs": [],
   "source": [
    "ecoind_raw_adelie.plot()"
   ]
  },
  {
   "cell_type": "markdown",
   "id": "620c11f9-c189-492e-9213-370faf527c5b",
   "metadata": {},
   "source": [
    "### Scale pan Antarctic"
   ]
  },
  {
   "cell_type": "code",
   "execution_count": null,
   "id": "d95c811f-9596-4a7c-aa5c-386cd2e9c255",
   "metadata": {},
   "outputs": [],
   "source": [
    "# scale this data by maximum value in whole domain\n",
    "scale_value = ecoind_raw.max(dim=['nlat','nlon'])\n",
    "ecoind_hemispheric = ecoind_raw/scale_value\n",
    "\n",
    "scale_value = ecoind_raw_half_penguin.max(dim=['nlat','nlon'])\n",
    "ecoind_hemispheric_half_penguin = ecoind_raw_half_penguin/scale_value\n",
    "\n",
    "scale_value = ecoind_raw_emperor.max(dim=['nlat','nlon'])\n",
    "ecoind_hemispheric_emperor = ecoind_raw_emperor/scale_value\n",
    "\n",
    "scale_value = ecoind_raw_adelie.max(dim=['nlat','nlon'])\n",
    "ecoind_hemispheric_adelie = ecoind_raw_adelie/scale_value"
   ]
  },
  {
   "cell_type": "markdown",
   "id": "90fce03a-00f7-46d9-b55d-8f9c3a6d794d",
   "metadata": {},
   "source": [
    "### Scale by region"
   ]
  },
  {
   "cell_type": "code",
   "execution_count": null,
   "id": "e297edba-218f-40f5-b447-b3f3d689f0e8",
   "metadata": {},
   "outputs": [],
   "source": [
    "## Scale ecoindex by maximum values in each CCAMLR region\n",
    "data = ecoind_raw\n",
    "\n",
    "# find the scale value by year and member and zone\n",
    "scale_value_1 = data.where(ccamlr_masks.sel(region='mpa_plan_1_mod')==1).max(dim=['nlat','nlon'])\n",
    "scale_value_3_4 = data.where(ccamlr_masks.sel(region='mpa_plan_3_4')==1).max(dim=['nlat','nlon'])\n",
    "scale_value_7 = data.where(ccamlr_masks.sel(region='mpa_plan_7_mod')==1).max(dim=['nlat','nlon'])\n",
    "scale_value_8 = data.where(ccamlr_masks.sel(region='mpa_plan_8')==1).max(dim=['nlat','nlon'])\n",
    "scale_value_9 = data.where(ccamlr_masks.sel(region='mpa_plan_9')==1).max(dim=['nlat','nlon'])\n",
    "\n",
    "# scale all values by year and member\n",
    "var_scaled_1 = data.where(ccamlr_masks.sel(region='mpa_plan_1_mod')==1)/scale_value_1\n",
    "var_scaled_3_4 = data.where(ccamlr_masks.sel(region='mpa_plan_3_4')==1)/scale_value_3_4\n",
    "var_scaled_7 = data.where(ccamlr_masks.sel(region='mpa_plan_7_mod')==1)/scale_value_7\n",
    "var_scaled_8 = data.where(ccamlr_masks.sel(region='mpa_plan_8')==1)/scale_value_8\n",
    "var_scaled_9 = data.where(ccamlr_masks.sel(region='mpa_plan_9')==1)/scale_value_9\n",
    "\n",
    "# replace missing values with 0\n",
    "var_scaled_1 = var_scaled_1.fillna(0)\n",
    "var_scaled_3_4 = var_scaled_3_4.fillna(0)\n",
    "var_scaled_7 = var_scaled_7.fillna(0)\n",
    "var_scaled_8 = var_scaled_8.fillna(0)\n",
    "var_scaled_9 = var_scaled_9.fillna(0)\n",
    "\n",
    "# sum all the ccamlr regions to get the eco index input\n",
    "ecoind_regional = var_scaled_1+var_scaled_3_4+var_scaled_7+var_scaled_8+var_scaled_9"
   ]
  },
  {
   "cell_type": "code",
   "execution_count": null,
   "id": "ac66ac73-1708-4af9-9f86-4909919cf514",
   "metadata": {},
   "outputs": [],
   "source": [
    "## Scale ecoindex by maximum values in each CCAMLR region\n",
    "data = ecoind_raw_half_penguin\n",
    "\n",
    "# find the scale value by year and member and zone\n",
    "scale_value_1 = data.where(ccamlr_masks.sel(region='mpa_plan_1_mod')==1).max(dim=['nlat','nlon'])\n",
    "scale_value_3_4 = data.where(ccamlr_masks.sel(region='mpa_plan_3_4')==1).max(dim=['nlat','nlon'])\n",
    "scale_value_7 = data.where(ccamlr_masks.sel(region='mpa_plan_7_mod')==1).max(dim=['nlat','nlon'])\n",
    "scale_value_8 = data.where(ccamlr_masks.sel(region='mpa_plan_8')==1).max(dim=['nlat','nlon'])\n",
    "scale_value_9 = data.where(ccamlr_masks.sel(region='mpa_plan_9')==1).max(dim=['nlat','nlon'])\n",
    "\n",
    "# scale all values by year and member\n",
    "var_scaled_1 = data.where(ccamlr_masks.sel(region='mpa_plan_1_mod')==1)/scale_value_1\n",
    "var_scaled_3_4 = data.where(ccamlr_masks.sel(region='mpa_plan_3_4')==1)/scale_value_3_4\n",
    "var_scaled_7 = data.where(ccamlr_masks.sel(region='mpa_plan_7_mod')==1)/scale_value_7\n",
    "var_scaled_8 = data.where(ccamlr_masks.sel(region='mpa_plan_8')==1)/scale_value_8\n",
    "var_scaled_9 = data.where(ccamlr_masks.sel(region='mpa_plan_9')==1)/scale_value_9\n",
    "\n",
    "# replace missing values with 0\n",
    "var_scaled_1 = var_scaled_1.fillna(0)\n",
    "var_scaled_3_4 = var_scaled_3_4.fillna(0)\n",
    "var_scaled_7 = var_scaled_7.fillna(0)\n",
    "var_scaled_8 = var_scaled_8.fillna(0)\n",
    "var_scaled_9 = var_scaled_9.fillna(0)\n",
    "\n",
    "# sum all the ccamlr regions to get the eco index input\n",
    "ecoind_regional_half_penguin = var_scaled_1+var_scaled_3_4+var_scaled_7+var_scaled_8+var_scaled_9"
   ]
  },
  {
   "cell_type": "code",
   "execution_count": null,
   "id": "9143dcea-3bd5-4b57-abcb-eb4992b86b93",
   "metadata": {},
   "outputs": [],
   "source": [
    "## Scale ecoindex by maximum values in each CCAMLR region\n",
    "data = ecoind_raw_emperor\n",
    "\n",
    "# find the scale value by year and member and zone\n",
    "scale_value_1 = data.where(ccamlr_masks.sel(region='mpa_plan_1_mod')==1).max(dim=['nlat','nlon'])\n",
    "scale_value_3_4 = data.where(ccamlr_masks.sel(region='mpa_plan_3_4')==1).max(dim=['nlat','nlon'])\n",
    "scale_value_7 = data.where(ccamlr_masks.sel(region='mpa_plan_7_mod')==1).max(dim=['nlat','nlon'])\n",
    "scale_value_8 = data.where(ccamlr_masks.sel(region='mpa_plan_8')==1).max(dim=['nlat','nlon'])\n",
    "scale_value_9 = data.where(ccamlr_masks.sel(region='mpa_plan_9')==1).max(dim=['nlat','nlon'])\n",
    "\n",
    "# scale all values by year and member\n",
    "var_scaled_1 = data.where(ccamlr_masks.sel(region='mpa_plan_1_mod')==1)/scale_value_1\n",
    "var_scaled_3_4 = data.where(ccamlr_masks.sel(region='mpa_plan_3_4')==1)/scale_value_3_4\n",
    "var_scaled_7 = data.where(ccamlr_masks.sel(region='mpa_plan_7_mod')==1)/scale_value_7\n",
    "var_scaled_8 = data.where(ccamlr_masks.sel(region='mpa_plan_8')==1)/scale_value_8\n",
    "var_scaled_9 = data.where(ccamlr_masks.sel(region='mpa_plan_9')==1)/scale_value_9\n",
    "\n",
    "# replace missing values with 0\n",
    "var_scaled_1 = var_scaled_1.fillna(0)\n",
    "var_scaled_3_4 = var_scaled_3_4.fillna(0)\n",
    "var_scaled_7 = var_scaled_7.fillna(0)\n",
    "var_scaled_8 = var_scaled_8.fillna(0)\n",
    "var_scaled_9 = var_scaled_9.fillna(0)\n",
    "\n",
    "# sum all the ccamlr regions to get the eco index input\n",
    "ecoind_regional_emperor = var_scaled_1+var_scaled_3_4+var_scaled_7+var_scaled_8+var_scaled_9"
   ]
  },
  {
   "cell_type": "code",
   "execution_count": null,
   "id": "2f3e98cc-b9ad-4b18-88a2-4b6748575cd4",
   "metadata": {},
   "outputs": [],
   "source": [
    "## Scale ecoindex by maximum values in each CCAMLR region\n",
    "data = ecoind_raw_adelie\n",
    "\n",
    "# find the scale value by year and member and zone\n",
    "scale_value_1 = data.where(ccamlr_masks.sel(region='mpa_plan_1_mod')==1).max(dim=['nlat','nlon'])\n",
    "scale_value_3_4 = data.where(ccamlr_masks.sel(region='mpa_plan_3_4')==1).max(dim=['nlat','nlon'])\n",
    "scale_value_7 = data.where(ccamlr_masks.sel(region='mpa_plan_7_mod')==1).max(dim=['nlat','nlon'])\n",
    "scale_value_8 = data.where(ccamlr_masks.sel(region='mpa_plan_8')==1).max(dim=['nlat','nlon'])\n",
    "scale_value_9 = data.where(ccamlr_masks.sel(region='mpa_plan_9')==1).max(dim=['nlat','nlon'])\n",
    "\n",
    "# scale all values by year and member\n",
    "var_scaled_1 = data.where(ccamlr_masks.sel(region='mpa_plan_1_mod')==1)/scale_value_1\n",
    "var_scaled_3_4 = data.where(ccamlr_masks.sel(region='mpa_plan_3_4')==1)/scale_value_3_4\n",
    "var_scaled_7 = data.where(ccamlr_masks.sel(region='mpa_plan_7_mod')==1)/scale_value_7\n",
    "var_scaled_8 = data.where(ccamlr_masks.sel(region='mpa_plan_8')==1)/scale_value_8\n",
    "var_scaled_9 = data.where(ccamlr_masks.sel(region='mpa_plan_9')==1)/scale_value_9\n",
    "\n",
    "# replace missing values with 0\n",
    "var_scaled_1 = var_scaled_1.fillna(0)\n",
    "var_scaled_3_4 = var_scaled_3_4.fillna(0)\n",
    "var_scaled_7 = var_scaled_7.fillna(0)\n",
    "var_scaled_8 = var_scaled_8.fillna(0)\n",
    "var_scaled_9 = var_scaled_9.fillna(0)\n",
    "\n",
    "# sum all the ccamlr regions to get the eco index input\n",
    "ecoind_regional_adelie = var_scaled_1+var_scaled_3_4+var_scaled_7+var_scaled_8+var_scaled_9"
   ]
  },
  {
   "cell_type": "markdown",
   "id": "288dee55-8af6-4096-bbea-b1e09b69bb34",
   "metadata": {},
   "source": [
    "## Save File\n",
    "\n",
    "- Netcdf with variable dimension: (nlat x nlon)\n",
    "- Include TAREA, andd TLAT and TLONG as coordinates"
   ]
  },
  {
   "cell_type": "code",
   "execution_count": null,
   "id": "0b1dc6e6-01a0-43e9-a0a9-ac67b31bec21",
   "metadata": {},
   "outputs": [],
   "source": [
    "ds_out = xr.Dataset()\n",
    "\n",
    "ds_out['ecoindex_hemispheric'] = ecoind_hemispheric\n",
    "ds_out['ecoindex_hemispheric_half_penguin'] = ecoind_hemispheric_half_penguin\n",
    "ds_out['ecoindex_hemispheric_emperor'] = ecoind_hemispheric_emperor\n",
    "ds_out['ecoindex_hemispheric_adelie'] = ecoind_hemispheric_adelie\n",
    "ds_out['ecoindex_regional'] = ecoind_regional\n",
    "ds_out['ecoindex_regional_half_penguin'] = ecoind_regional_half_penguin\n",
    "ds_out['ecoindex_regional_emperor'] = ecoind_regional_emperor\n",
    "ds_out['ecoindex_regional_adelie'] = ecoind_regional_adelie\n",
    "\n",
    "# change the attributes\n",
    "ds_out.attrs['author'] = 'Alice DuVivier'\n",
    "ds_out.attrs['date_processed'] = datetime.now().strftime('%Y-%m-%d')\n",
    "ds_out.attrs['contents'] = f'Ecological Index - present day historical reconstruction.'\n",
    "ds_out.attrs['units'] = f'Unitless'\n",
    "\n",
    "ds_out"
   ]
  },
  {
   "cell_type": "code",
   "execution_count": null,
   "id": "e6827b5e-4894-4a16-8f2b-b1a1c3ea001d",
   "metadata": {},
   "outputs": [],
   "source": [
    "# drop unnecessary coordinates\n",
    "ds_out = ds_out.drop('region')\n",
    "ds_out = ds_out.drop('ULAT')\n",
    "ds_out = ds_out.drop('ULONG')"
   ]
  },
  {
   "cell_type": "code",
   "execution_count": null,
   "id": "c3228133-dfe5-4b0f-bbaf-b40e0d8cd68c",
   "metadata": {},
   "outputs": [],
   "source": [
    "ds_out"
   ]
  },
  {
   "cell_type": "code",
   "execution_count": null,
   "id": "a2df5a36-8c79-4937-a068-0f4109064a5b",
   "metadata": {
    "scrolled": true
   },
   "outputs": [],
   "source": [
    "# Print the dimensions\n",
    "print(\"Dimensions:\")\n",
    "for dim in ds_out.dims:\n",
    "    print(f\"\\t{dim}: {ds_out[dim].values.shape}\")\n",
    "\n",
    "# Print the coordinates\n",
    "print(\"Coordinates:\")\n",
    "for coord in ds_out.coords:\n",
    "    print(f\"\\t{coord}:\")\n",
    "    print(f\"\\t\\t{ds_out.coords[coord].values}\")\n",
    "    \n",
    "# Print the attributes\n",
    "print(\"Attributes:\")\n",
    "for attr in ds_out.attrs:\n",
    "    print(f\"\\t{attr}: {ds_out.attrs[attr]}\")"
   ]
  },
  {
   "cell_type": "code",
   "execution_count": null,
   "id": "d567681b-b3eb-4f5e-b14b-2ec701fb2483",
   "metadata": {},
   "outputs": [],
   "source": [
    "# calculate the size of the dataset in GB\n",
    "size_gb = ds_out.nbytes / (1024**3)\n",
    "print(f\"The dataset is approximately {size_gb:.2f} GB.\")\n"
   ]
  },
  {
   "cell_type": "code",
   "execution_count": null,
   "id": "4e6fbad6-504b-414b-a615-0eb0fc63f14e",
   "metadata": {},
   "outputs": [],
   "source": [
    "path_out = '/glade/campaign/cgd/ppc/duvivier/cesm2_antarctic_polynya/mpa_analysis/DATA/ecoindex_data/ecoindex/'\n",
    "file_out = 'ecoindex_present_day_penguin_tests.nc'\n",
    "fout = path_out + file_out"
   ]
  },
  {
   "cell_type": "code",
   "execution_count": null,
   "id": "61d3d456-5ed3-467b-b555-8833d33e17cc",
   "metadata": {},
   "outputs": [],
   "source": [
    "# Export the dataset to NetCDF with all attributes and coordinates\n",
    "ds_out.to_netcdf(fout)"
   ]
  },
  {
   "cell_type": "code",
   "execution_count": null,
   "id": "dac09a66-9f57-4435-b3ce-e9c1f0844dd7",
   "metadata": {},
   "outputs": [],
   "source": []
  }
 ],
 "metadata": {
  "kernelspec": {
   "display_name": "Python [conda env:miniconda3-analysis3]",
   "language": "python",
   "name": "conda-env-miniconda3-analysis3-py"
  },
  "language_info": {
   "codemirror_mode": {
    "name": "ipython",
    "version": 3
   },
   "file_extension": ".py",
   "mimetype": "text/x-python",
   "name": "python",
   "nbconvert_exporter": "python",
   "pygments_lexer": "ipython3",
   "version": "3.7.12"
  }
 },
 "nbformat": 4,
 "nbformat_minor": 5
}
