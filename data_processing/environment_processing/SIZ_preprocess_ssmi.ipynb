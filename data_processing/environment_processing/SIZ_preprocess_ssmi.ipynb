{
 "cells": [
  {
   "cell_type": "markdown",
   "id": "cc4f37e1-94f0-443d-bf50-80ba8d5a81eb",
   "metadata": {},
   "source": [
    "# Sea Ice Zone Data Processing from SSMI\n",
    "- Process data for Southern Ocean SIZ each year and get climatological extent\n",
    "- Notebook by Alice DuVivier (NCAR)\n",
    "- Note: this notebook needs to load the utils.py file\n",
    "- June 2024"
   ]
  },
  {
   "cell_type": "markdown",
   "id": "2dcf3b42-677d-4123-b96c-a996bc4d3a85",
   "metadata": {},
   "source": [
    "## SIZ is the maximum area covered by sea ice in each year\n",
    "\n",
    "- Satellite observations show maximum sea ice extent in September"
   ]
  },
  {
   "cell_type": "code",
   "execution_count": 1,
   "id": "ec46b02e-8f58-4101-9035-85d9b5541a1d",
   "metadata": {},
   "outputs": [
    {
     "name": "stderr",
     "output_type": "stream",
     "text": [
      "/glade/work/duvivier/miniconda3/envs/analysis3/lib/python3.7/site-packages/dask_jobqueue/core.py:20: FutureWarning: tmpfile is deprecated and will be removed in a future release. Please use dask.utils.tmpfile instead.\n",
      "  from distributed.utils import tmpfile\n"
     ]
    }
   ],
   "source": [
    "import utils\n",
    "import xarray as xr\n",
    "import numpy as np\n",
    "import dask\n",
    "from distributed import Client\n",
    "from ncar_jobqueue import NCARCluster\n",
    "from glob import glob\n",
    "import intake\n",
    "import importlib\n",
    "import pop_tools\n",
    "from datetime import datetime\n",
    "import warnings\n",
    "warnings.filterwarnings('ignore')\n",
    "import matplotlib.pyplot as plt\n",
    "import cartopy\n",
    "import cartopy.crs as ccrs"
   ]
  },
  {
   "cell_type": "code",
   "execution_count": null,
   "id": "7cf8d027-1d4e-4bbb-ba6e-f7d4e389e48c",
   "metadata": {},
   "outputs": [],
   "source": []
  },
  {
   "cell_type": "code",
   "execution_count": null,
   "id": "6731264e-6c52-4d43-ba24-175aac4604e6",
   "metadata": {},
   "outputs": [],
   "source": [
    "dir_in = '/glade/campaign/cesm/development/pcwg/ssmi/CDR/'"
   ]
  },
  {
   "cell_type": "code",
   "execution_count": null,
   "id": "8e3447c7-d69d-4c0f-9dd4-9cea4116f23a",
   "metadata": {},
   "outputs": [],
   "source": [
    "file_in = 'ssmi_cdr_monthly_data_gx1v5_197901-202012.nc'"
   ]
  },
  {
   "cell_type": "markdown",
   "id": "62172ea8-a72c-42b1-81d7-3ab443513073",
   "metadata": {
    "tags": []
   },
   "source": [
    "## Spin up DASK cluster"
   ]
  },
  {
   "cell_type": "code",
   "execution_count": null,
   "id": "8a124b2c-5c5a-4ddd-823f-1ffcd58379d1",
   "metadata": {},
   "outputs": [],
   "source": [
    "# Create our NCAR Cluster - which uses PBSCluster under the hood\n",
    "cluster = NCARCluster(walltime='2:00:00', cores=1, processes=1, memory='100 GB', \n",
    "                      resource_spec='select=1:ncpus=1:mem=100GB',interface='ext')\n",
    "\n",
    "# Spin up 32 workers\n",
    "cluster.scale(32)\n",
    "\n",
    "# Assign the cluster to our Client\n",
    "client = Client(cluster)"
   ]
  },
  {
   "cell_type": "code",
   "execution_count": null,
   "id": "7f76abfb-83ff-4cf2-8565-92780ade5b8c",
   "metadata": {},
   "outputs": [],
   "source": [
    "client\n",
    "# cluster.close()"
   ]
  },
  {
   "cell_type": "markdown",
   "id": "850f7c0e-5c96-437b-a4ec-15113414c341",
   "metadata": {},
   "source": [
    "## Define some functions we'll need to load data"
   ]
  },
  {
   "cell_type": "code",
   "execution_count": null,
   "id": "231e7afd-d6f4-4143-a0ad-013a6ea9b758",
   "metadata": {},
   "outputs": [],
   "source": [
    "# define the metrics we can load \n",
    "metrics_dict = {\n",
    "    \"SIZ\": ['aice'],\n",
    "}\n",
    "\n",
    "def get_metrics_list():\n",
    "    return list(metrics_dict.keys())"
   ]
  },
  {
   "cell_type": "code",
   "execution_count": null,
   "id": "a911f425-4606-492e-9b95-c1423b2e679e",
   "metadata": {},
   "outputs": [],
   "source": [
    "# function to return the variables we need to return for all metrics\n",
    "def get_metric_variable(metric):\n",
    "    var_names = metrics_dict[metric]\n",
    "    # handle the case where there is only one variable\n",
    "    if isinstance(var_names, str):\n",
    "        return var_names\n",
    "    # handle the case where there are multiple variables\n",
    "    else:\n",
    "        return var_names[:]"
   ]
  },
  {
   "cell_type": "code",
   "execution_count": null,
   "id": "8386747f-af6b-4245-bd5d-7b313fff2e08",
   "metadata": {},
   "outputs": [],
   "source": [
    "# function to average over top 150m for relevant variables and to keep time bound\n",
    "def preprocess(ds):\n",
    "    tb = ds.time_bounds    \n",
    "    #re-write time bound with saved value\n",
    "    ds['time_bound'] = tb\n",
    "    return ds"
   ]
  },
  {
   "cell_type": "code",
   "execution_count": null,
   "id": "348c8178-3dc0-466e-bda6-00cda7348ff8",
   "metadata": {},
   "outputs": [],
   "source": [
    "# function for loading datasets\n",
    "def load_datasets(varnames, experiment,lat_min,lat_max):\n",
    "    ds_list = []\n",
    "    for varname in varnames:\n",
    "        subset = catalog.search(component='ice',\n",
    "                                variable=varname,\n",
    "                                experiment=experiment,\n",
    "                                forcing_variant='cmip6',\n",
    "                               )\n",
    "        with dask.config.set(**{'array.slicing.split_large_chunks': True}):\n",
    "            dsets = subset.to_dataset_dict()\n",
    "        ds = dsets[f'ice.{experiment}.cice.h.cmip6.{varname}'] \n",
    "        \n",
    "        # compute time mean to get correct months\n",
    "        ds['time']= ds.time_bounds.compute().mean(dim=\"d2\")\n",
    "        # keep only some variables\n",
    "        keep_vars=['time_bounds','TLAT','TLON','tarea','time'] + [varname]\n",
    "        ds = ds.drop([v for v in ds.variables if v not in keep_vars])\n",
    "        ds_list.append(ds)\n",
    "        ds = xr.merge(ds_list, compat=\"override\")\n",
    "        \n",
    "        # crop data to the latitudes we want, use given lat/lon, not specific indices\n",
    "        #ds = ds.isel(nlat=slice(0,37)) # Crop to Southern Ocean, ind_start = 0, ind_end = 37\n",
    "        ds = ds.where(((ds['TLAT'] <= lat_max) & (ds['TLAT'] >= lat_min)), drop=True)\n",
    "        \n",
    "    return ds"
   ]
  },
  {
   "cell_type": "markdown",
   "id": "e06c6848-f6c0-400e-bd64-c11cb1bc57c4",
   "metadata": {},
   "source": [
    "## Select the metric you are interested in"
   ]
  },
  {
   "cell_type": "code",
   "execution_count": null,
   "id": "2037e7ed-9e99-4f6a-a055-5ac9060cb955",
   "metadata": {},
   "outputs": [],
   "source": [
    "import utils"
   ]
  },
  {
   "cell_type": "code",
   "execution_count": null,
   "id": "5b002ec7-1296-4408-aa47-141a927c0155",
   "metadata": {},
   "outputs": [],
   "source": [
    "## Print out potential metrics to investigate:\n",
    "metrics_list = get_metrics_list()\n",
    "print(metrics_list)"
   ]
  },
  {
   "cell_type": "code",
   "execution_count": null,
   "id": "466cf025-0950-486a-8431-b9a6e67f1de3",
   "metadata": {},
   "outputs": [],
   "source": [
    "## Enter the metric  of interest:\n",
    "metric = 'SIZ'"
   ]
  },
  {
   "cell_type": "code",
   "execution_count": null,
   "id": "1d59fe97-46de-48a1-b2c6-1af57637a882",
   "metadata": {},
   "outputs": [],
   "source": [
    "## Enter the years you want to keep:\n",
    "yy_st = \"1950\"\n",
    "yy_ed = \"2100\""
   ]
  },
  {
   "cell_type": "code",
   "execution_count": null,
   "id": "308a7f44-d765-4ebb-8196-daaf62e98e15",
   "metadata": {},
   "outputs": [],
   "source": [
    "## Enter the latitudes you want to keep:\n",
    "lat_min = -80\n",
    "lat_max = -60"
   ]
  },
  {
   "cell_type": "markdown",
   "id": "78e2c3fa-4b67-4382-904b-f5f053fe1af5",
   "metadata": {},
   "source": [
    "## Load CESM2-LE data"
   ]
  },
  {
   "cell_type": "code",
   "execution_count": null,
   "id": "a1ca8002-ba89-4620-96f6-c4ace5e991a3",
   "metadata": {},
   "outputs": [],
   "source": [
    "# for the metric supplied, define the list of required variable names\n",
    "varnames = get_metric_variable(metric) \n",
    "varnames"
   ]
  },
  {
   "cell_type": "markdown",
   "id": "52c14572-c8e5-46be-9ea5-2b7d45d33912",
   "metadata": {},
   "source": [
    "### Load the Data Catalog"
   ]
  },
  {
   "cell_type": "code",
   "execution_count": null,
   "id": "230d7b93-3bb6-48f7-b9ea-1eba75e4ba1b",
   "metadata": {},
   "outputs": [],
   "source": [
    "catalog = intake.open_esm_datastore(\n",
    "    '/glade/collections/cmip/catalog/intake-esm-datastore/catalogs/glade-cesm2-le.json'\n",
    ")"
   ]
  },
  {
   "cell_type": "markdown",
   "id": "f0992508-17a9-47fb-ba85-99d56a7bf193",
   "metadata": {},
   "source": [
    "### Load historical data"
   ]
  },
  {
   "cell_type": "code",
   "execution_count": null,
   "id": "c7e73761-34c2-4914-9a94-a9b3b2da57b9",
   "metadata": {},
   "outputs": [],
   "source": [
    "%%time\n",
    "# load historical\n",
    "ds_hist = load_datasets(varnames,'historical',lat_min,lat_max)\n",
    "ds_hist"
   ]
  },
  {
   "cell_type": "code",
   "execution_count": null,
   "id": "c40d9c26-225d-419a-8845-475bb13765b4",
   "metadata": {},
   "outputs": [],
   "source": [
    "# check that this data looks reasonable\n",
    "\n",
    "mem_5_hist = ds_hist.aice.isel(member_id=5)\n",
    "\n",
    "fig, (ax1, ax2) = plt.subplots(ncols=2, figsize=(10, 4))\n",
    "\n",
    "mem_5_hist.isel(time=0).plot(ax=ax1)\n",
    "ax1.set_title(mem_5_hist.isel(time=0).time.values)\n",
    "\n",
    "mem_5_hist.isel(time=1200).plot(ax=ax2)\n",
    "ax2.set_title(mem_5_hist.isel(time=1200).time.values)\n",
    "\n",
    "fig.suptitle(\"first and last ice concentration for hist dataset\")\n",
    "\n",
    "plt.tight_layout()\n",
    "plt.show()"
   ]
  },
  {
   "cell_type": "markdown",
   "id": "53978e3b-82e7-4901-8872-451830966806",
   "metadata": {},
   "source": [
    "### Load future data"
   ]
  },
  {
   "cell_type": "code",
   "execution_count": null,
   "id": "f9062dbf-2cfd-4eee-86b4-5201fc32c742",
   "metadata": {},
   "outputs": [],
   "source": [
    "%%time\n",
    "# load future\n",
    "ds_ssp = load_datasets(varnames, 'ssp370',lat_min,lat_max)\n",
    "ds_ssp"
   ]
  },
  {
   "cell_type": "code",
   "execution_count": null,
   "id": "ee94a11e-c8f0-41bc-9720-b38bd5386e5d",
   "metadata": {},
   "outputs": [],
   "source": [
    "# check that this data looks reasonable\n",
    "\n",
    "mem_5_ssp = ds_ssp.aice.isel(member_id=5)\n",
    "\n",
    "fig, (ax1, ax2) = plt.subplots(ncols=2, figsize=(10, 4))\n",
    "\n",
    "mem_5_ssp.isel(time=0).plot(ax=ax1)\n",
    "ax1.set_title(mem_5_ssp.isel(time=0).time.values)\n",
    "\n",
    "mem_5_ssp.isel(time=-1).plot(ax=ax2)\n",
    "ax2.set_title(mem_5_ssp.isel(time=-1).time.values)\n",
    "\n",
    "fig.suptitle(\"first and last NPP for future dataset\")\n",
    "\n",
    "plt.tight_layout()\n",
    "plt.show()"
   ]
  },
  {
   "cell_type": "markdown",
   "id": "c7f4496f-d3ac-41c1-a5b6-deeca08ed392",
   "metadata": {},
   "source": [
    "## Concatenate historical and future datasets and crop to just the times we need\n"
   ]
  },
  {
   "cell_type": "code",
   "execution_count": null,
   "id": "be866619-4635-4ea9-8dd9-93afe3ff42c1",
   "metadata": {},
   "outputs": [],
   "source": [
    "ds = xr.concat((ds_hist, ds_ssp),dim='time')\n",
    "ds.time"
   ]
  },
  {
   "cell_type": "code",
   "execution_count": null,
   "id": "a0a5c53f-832f-42c9-b15e-0cf5b25a54e9",
   "metadata": {},
   "outputs": [],
   "source": [
    "# keep just years chosen above\n",
    "ds = ds.sel(time=slice(yy_st, yy_ed))\n",
    "#ds = ds.isel(time=slice(1200, 3012)) # Cut timeseries to 1950 - 2100: 1812 time steps\n",
    "ds.time"
   ]
  },
  {
   "cell_type": "code",
   "execution_count": null,
   "id": "d0c1e851-c63e-4e5c-9733-56fb38c16972",
   "metadata": {},
   "outputs": [],
   "source": [
    "# check that this data looks reasonable\n",
    "\n",
    "mem_5 = ds.aice.isel(member_id=5)\n",
    "\n",
    "fig, (ax1, ax2) = plt.subplots(ncols=2, figsize=(10, 4))\n",
    "\n",
    "mem_5.isel(time=0).plot(ax=ax1)\n",
    "ax1.set_title(mem_5.isel(time=0).time.values)\n",
    "\n",
    "mem_5.isel(time=-1).plot(ax=ax2)\n",
    "ax2.set_title(mem_5.isel(time=-1).time.values)\n",
    "\n",
    "fig.suptitle(\"first and last NPP for concattenated dataset\")\n",
    "\n",
    "plt.tight_layout()\n",
    "plt.show()"
   ]
  },
  {
   "attachments": {},
   "cell_type": "markdown",
   "id": "63544772-1bf6-4715-a72a-ef008eeaf1f5",
   "metadata": {
    "tags": []
   },
   "source": [
    "# Compute Annual Maximum SIE\n",
    "* Maximum extent is either in September or October"
   ]
  },
  {
   "cell_type": "code",
   "execution_count": null,
   "id": "d4b589a3-6fe8-4f29-adb1-e3160ecb4bc9",
   "metadata": {},
   "outputs": [],
   "source": [
    "# get some sizes\n",
    "years = np.arange(int(yy_st),int(yy_ed),1)\n",
    "\n",
    "tlen = 150 #annual timesteps \n",
    "xlen = len(ds.ni)\n",
    "ylen = len(ds.nj)\n",
    "elen = len(ds.member_id)\n",
    "print(tlen,xlen,ylen,elen)\n",
    "\n",
    "variable = 'aice'"
   ]
  },
  {
   "cell_type": "markdown",
   "id": "4a65d34a-bbaf-47cb-9936-05c50baea941",
   "metadata": {},
   "source": [
    "### Get the September and October sea ice"
   ]
  },
  {
   "cell_type": "code",
   "execution_count": null,
   "id": "6e606858-b9d2-4739-845f-3fc70a5f9d1b",
   "metadata": {},
   "outputs": [],
   "source": [
    "%%time\n",
    "\n",
    "var = variable\n",
    "\n",
    "ds_Sep = xr.Dataset()\n",
    "Sep = np.zeros([tlen,elen,ylen,xlen])\n",
    "\n",
    "ds_Oct = xr.Dataset()\n",
    "Oct = np.zeros([tlen,elen,ylen,xlen])\n",
    "\n",
    "ds_Sep_Oct = xr.Dataset()\n",
    "Sep_Oct = np.zeros([tlen,elen,ylen,xlen])\n",
    "\n",
    "for year in np.arange(0,150,1):\n",
    "\n",
    "    # September\n",
    "    #get time index of september for this year\n",
    "    st_mon_sep = year*12 + 8\n",
    "    #get that month only\n",
    "    Sep[year,:,:,:] = ds[var].isel(time=st_mon_sep)\n",
    "\n",
    "    # October\n",
    "    #get time index of september for this year\n",
    "    st_mon_oct = year*12 + 9\n",
    "    #get that month only\n",
    "    Oct[year,:,:,:] = ds[var].isel(time=st_mon_oct)\n",
    "\n",
    "    # Sept and Oct mean\n",
    "    #get those months only\n",
    "    temp = ds[var].isel(time=slice(st_mon_sep,st_mon_oct+1))\n",
    "    Sep_Oct[year,:,:,:] = temp.mean(dim='time')\n",
    "\n",
    "# turn into xarrays\n",
    "Sep = xr.DataArray(Sep,dims=('time','member_id','nlat','nlon'))\n",
    "ds_Sep[var] = Sep\n",
    "ds_Sep[var].attrs['units'] = ''\n",
    "ds_Sep['time'] = years\n",
    "\n",
    "Oct = xr.DataArray(Oct,dims=('time','member_id','nlat','nlon'))\n",
    "ds_Oct[var] = Oct\n",
    "ds_Oct[var].attrs['units'] = ''\n",
    "ds_Oct['time'] = years\n",
    "\n",
    "Sep_Oct = xr.DataArray(Sep_Oct,dims=('time','member_id','nlat','nlon'))\n",
    "ds_Sep_Oct[var] = Sep_Oct\n",
    "ds_Sep_Oct[var].attrs['units'] = ''\n",
    "ds_Sep_Oct['time'] = years"
   ]
  },
  {
   "cell_type": "markdown",
   "id": "5ff079c7-a098-4288-a1b2-567b43ee3ddc",
   "metadata": {},
   "source": [
    "### Calculate the SIA each year"
   ]
  },
  {
   "cell_type": "code",
   "execution_count": null,
   "id": "258da93a-3332-409b-86a5-707e12f75fe3",
   "metadata": {},
   "outputs": [],
   "source": [
    "# keep only regions with >15% ice cover\n",
    "ds_Sep_mask = ds_Sep.where(ds_Sep.aice > 0.15)\n",
    "ds_Oct_mask = ds_Oct.where(ds_Oct.aice > 0.15)\n",
    "ds_Sep_Oct_mask = ds_Sep_Oct.where(ds_Sep_Oct.aice > 0.15)"
   ]
  },
  {
   "cell_type": "code",
   "execution_count": null,
   "id": "16d245b2-118d-4400-b5cb-a3b094e5a845",
   "metadata": {},
   "outputs": [],
   "source": [
    "ds_Sep_mask['time'] = years\n",
    "ds_Oct_mask['time'] = years\n",
    "ds_Sep_Oct_mask['time'] = years"
   ]
  },
  {
   "cell_type": "code",
   "execution_count": null,
   "id": "159c18a4-28a9-46d3-917b-c2ce63a90a0d",
   "metadata": {},
   "outputs": [],
   "source": [
    "# multipy by tarea\n",
    "tarea = ds.tarea.isel(time=0)\n",
    "tarea = tarea.rename({'nj':'nlat','ni': 'nlon'})\n",
    "\n",
    "ds_Sep_mask = ds_Sep_mask*tarea\n",
    "ds_Oct_mask = ds_Oct_mask*tarea\n",
    "ds_Sep_Oct_mask = ds_Sep_Oct_mask*tarea"
   ]
  },
  {
   "cell_type": "code",
   "execution_count": null,
   "id": "61ca4e77-7014-499c-801d-14a491273d3f",
   "metadata": {},
   "outputs": [],
   "source": [
    "# sum over all lat/lon points\n",
    "ds_Sep_sum = ds_Sep_mask.aice.sum(dim=['nlat','nlon'])\n",
    "ds_Oct_sum = ds_Oct_mask.aice.sum(dim=['nlat','nlon'])\n",
    "ds_Sep_Oct_sum = ds_Sep_Oct_mask.aice.sum(dim=['nlat','nlon'])"
   ]
  },
  {
   "cell_type": "code",
   "execution_count": null,
   "id": "f1776419-7984-4d24-badd-3083f9d89444",
   "metadata": {},
   "outputs": [],
   "source": [
    "# get ensemble mean and standard deviations\n",
    "ds_Sep_avg = ds_Sep_sum.mean(dim='member_id')\n",
    "ds_Sep_std = ds_Sep_sum.std(dim='member_id')\n",
    "ds_Oct_avg = ds_Oct_sum.mean(dim='member_id')\n",
    "ds_Oct_std = ds_Oct_sum.std(dim='member_id')\n",
    "ds_Sep_Oct_avg = ds_Sep_Oct_sum.mean(dim='member_id')\n",
    "ds_Sep_Oct_std = ds_Sep_Oct_sum.std(dim='member_id')"
   ]
  },
  {
   "cell_type": "code",
   "execution_count": null,
   "id": "6ae2ebf5-adfa-468a-a490-5024b8bb0230",
   "metadata": {},
   "outputs": [],
   "source": [
    "ds_Sep_avg.plot()\n",
    "ds_Oct_avg.plot()\n",
    "ds_Sep_Oct_avg.plot()"
   ]
  },
  {
   "cell_type": "code",
   "execution_count": null,
   "id": "41dbeda0-cb47-405f-a05a-9d8a925c3f6a",
   "metadata": {},
   "outputs": [],
   "source": [
    "# Make nicer plot with standard deviations\n",
    "\n",
    "# create figure\n",
    "fig = plt.figure(figsize=(20,10))\n",
    "\n",
    "# Make subplot - note it's nrow x ncol x index (starting upper left)\n",
    "ax = fig.add_subplot(1,1,1) \n",
    "\n",
    "# plot the Sep values\n",
    "ax.plot(years,ds_Sep_avg,label=\"September\",color='blue',linestyle='solid',linewidth=2)\n",
    "#ax.plot(years,ds_Sep_avg+ds_Sep_std,color='blue',linestyle='dashed',linewidth=1)\n",
    "#ax.plot(years,ds_Sep_avg-ds_Sep_std,color='blue',linestyle='dashed',linewidth=1)\n",
    "\n",
    "# plot the Oct values\n",
    "ax.plot(years,ds_Oct_avg,label=\"October\",color='red',linestyle='solid',linewidth=2)\n",
    "#ax.plot(years,ds_Oct_avg+ds_Oct_std,color='red',linestyle='dashed',linewidth=1)\n",
    "#ax.plot(years,ds_Oct_avg-ds_Oct_std,color='red',linestyle='dashed',linewidth=1)\n",
    "\n",
    "# plot the mean Sep/Oct values\n",
    "ax.plot(years,ds_Sep_Oct_avg,label=\"SepOct Mean\",color='black',linestyle='solid',linewidth=2)\n",
    "ax.plot(years,ds_Sep_Oct_avg+ds_Sep_Oct_std,color='black',linestyle='dashed',linewidth=1)\n",
    "ax.plot(years,ds_Sep_Oct_avg-ds_Sep_Oct_std,color='black',linestyle='dashed',linewidth=1)\n",
    "\n",
    "# finish up plot\n",
    "plt.title('Maximum Southern Hemisphere SIA',fontsize=20)\n",
    "plt.xlabel('year',fontsize=20)\n",
    "plt.xticks(fontsize=20, rotation=45)\n",
    "plt.xlim([1950,2100])\n",
    "plt.yticks(fontsize=20)\n",
    "plt.legend(ncol=1,fontsize=20)\n"
   ]
  },
  {
   "cell_type": "code",
   "execution_count": null,
   "id": "84ff5a91-d3ff-4552-a948-dd63a27a5aa2",
   "metadata": {},
   "outputs": [],
   "source": [
    "# Make nicer plot with standard deviations\n",
    "\n",
    "# create figure\n",
    "fig = plt.figure(figsize=(20,10))\n",
    "\n",
    "# Make subplot - note it's nrow x ncol x index (starting upper left)\n",
    "ax = fig.add_subplot(1,1,1) \n",
    "\n",
    "# plot the Sep values\n",
    "ax.plot(years,ds_Sep_avg,label=\"September\",color='blue',linestyle='solid',linewidth=2)\n",
    "ax.plot(years,ds_Sep_avg+ds_Sep_std,color='blue',linestyle='dashed',linewidth=1)\n",
    "ax.plot(years,ds_Sep_avg-ds_Sep_std,color='blue',linestyle='dashed',linewidth=1)\n",
    "\n",
    "# plot the Oct values\n",
    "ax.plot(years,ds_Oct_avg,label=\"October\",color='red',linestyle='solid',linewidth=2)\n",
    "ax.plot(years,ds_Oct_avg+ds_Oct_std,color='red',linestyle='dashed',linewidth=1)\n",
    "ax.plot(years,ds_Oct_avg-ds_Oct_std,color='red',linestyle='dashed',linewidth=1)\n",
    "\n",
    "# finish up plot\n",
    "plt.title('Maximum Southern Hemisphere SIA',fontsize=20)\n",
    "plt.xlabel('year',fontsize=20)\n",
    "plt.xticks(fontsize=20, rotation=45)\n",
    "plt.xlim([1950,2100])\n",
    "plt.yticks(fontsize=20)\n",
    "plt.legend(ncol=1,fontsize=20)\n"
   ]
  },
  {
   "cell_type": "markdown",
   "id": "7fe50e90-e5ea-473b-9434-7c08a849fff0",
   "metadata": {},
   "source": [
    "- Satellite observations show maximum sea ice extent in September, but past work showed CESM2 maximum in October (DuVivier et al. 2020, https://doi.org/10.1029/2019JC015934).\n",
    "- The above figures show that in the CESM2-LE the September sea ice area is greater than the October sea ice area. Time indices have been checked to verify we're pulling the correct months.\n",
    "- This result is contrary to the DuVivier 2020 paper, but does match observations better.\n",
    "- Therefore, for calculation of yearly SIZ we will use CESM2-LE September sea ice concentrations."
   ]
  },
  {
   "cell_type": "markdown",
   "id": "18edc126-ead0-492a-a579-5ef5885abbb0",
   "metadata": {},
   "source": [
    "## Calculate SIZ"
   ]
  },
  {
   "cell_type": "markdown",
   "id": "3691f5d4-dc63-4498-9b19-c626a61ce5ff",
   "metadata": {},
   "source": [
    "### Load CESM2-LE ocean grid"
   ]
  },
  {
   "cell_type": "code",
   "execution_count": null,
   "id": "e986e739-ce2a-4b61-ad2b-644f1687ee88",
   "metadata": {},
   "outputs": [],
   "source": [
    "# directory path\n",
    "dir_in = '/glade/campaign/cgd/ppc/duvivier/masks/'"
   ]
  },
  {
   "cell_type": "code",
   "execution_count": null,
   "id": "16cb7b92-75d1-4fe1-ba28-daf07238dda6",
   "metadata": {},
   "outputs": [],
   "source": [
    "# load ocean grid\n",
    "fin = 'ocn_grid.nc'\n",
    "ds_grid = xr.open_mfdataset(dir_in+fin,decode_times=False)\n",
    "ds_grid['nlat'] = ds_grid.nlat\n",
    "ds_grid['nlon'] = ds_grid.nlon\n",
    "ds_grid"
   ]
  },
  {
   "cell_type": "code",
   "execution_count": null,
   "id": "d670e49b-3a10-4b68-9341-30c95134a492",
   "metadata": {},
   "outputs": [],
   "source": [
    "# load sea ice masks\n",
    "fin = 'REGION_MASK_gx1v7.nc'\n",
    "ds_mask = xr.open_mfdataset(dir_in+fin,decode_times=False)\n",
    "ds_mask = ds_mask.isel(time=0)\n",
    "ds_mask = ds_mask.rename({'lat':'nlat','lon': 'nlon'})\n",
    "ds_mask['nlat'] = ds_grid.nlat\n",
    "ds_mask['nlon'] = ds_grid.nlon\n",
    "ds_mask"
   ]
  },
  {
   "cell_type": "code",
   "execution_count": null,
   "id": "030103e2-0386-4eee-a3ae-ab7f114a9194",
   "metadata": {},
   "outputs": [],
   "source": [
    "# crop data to the latitudes we want, use given lat/lon, not specific indices\n",
    "ds_grid = ds_grid.where(((ds_grid['TLAT'] <= lat_max) & (ds_grid['TLAT'] >= lat_min)), drop=True)\n",
    "ds_mask = ds_mask.where(((ds_grid['TLAT'] <= lat_max) & (ds_grid['TLAT'] >= lat_min)), drop=True)"
   ]
  },
  {
   "cell_type": "markdown",
   "id": "c6fcf964-b728-470a-9fd4-bef4320cd8e9",
   "metadata": {},
   "source": [
    "### Make SIZ masks"
   ]
  },
  {
   "cell_type": "code",
   "execution_count": null,
   "id": "32f55a35-f1eb-4b07-88ac-6445743ac3fb",
   "metadata": {},
   "outputs": [],
   "source": [
    "# set some coordinates for the sea ice so we can do the masking\n",
    "ds_Sep['nlat'] = ds_mask.nlat\n",
    "ds_Sep['nlon'] = ds_mask.nlon"
   ]
  },
  {
   "cell_type": "code",
   "execution_count": null,
   "id": "97fc2415-8fde-4176-9eb8-0e8003b19fa3",
   "metadata": {},
   "outputs": [],
   "source": [
    "# create a mask using the 0-1 array from sh_mask and where SIC is above 15%\n",
    "SIZ_mask = ds_mask.sh_mask.where(ds_Sep.aice >= 0.15,0)\n",
    "\n",
    "# omit land points\n",
    "SIZ_mask = SIZ_mask.where(ds_grid.REGION_MASK == 1)\n",
    "\n",
    "SIZ_mask"
   ]
  },
  {
   "cell_type": "code",
   "execution_count": null,
   "id": "09d1ab8f-1958-4700-a7db-df1a3ba5d561",
   "metadata": {},
   "outputs": [],
   "source": [
    "SIZ_mask.isel(time=0,member_id=0).plot()"
   ]
  },
  {
   "cell_type": "markdown",
   "id": "1c9392fe-38e5-45db-a38f-a981985e05fb",
   "metadata": {},
   "source": [
    "## Put together into one dataset"
   ]
  },
  {
   "cell_type": "markdown",
   "id": "08514de3-7503-4651-9d05-6b232c2abfae",
   "metadata": {},
   "source": [
    "- Netcdf with variable dimension: (member_id x year x nlat x nlon) Include TLAT and TLONG as coordinates"
   ]
  },
  {
   "cell_type": "code",
   "execution_count": null,
   "id": "7384cd7c-6d88-42d3-a8b4-b0d1daac9822",
   "metadata": {
    "tags": []
   },
   "outputs": [],
   "source": [
    "ds_out = xr.Dataset()\n",
    "\n",
    "ds_out['SIC_SEP'] = ds_Sep[variable]\n",
    "ds_out['SIZ_SEP'] = SIZ_mask\n",
    "\n",
    "# change the attributes\n",
    "ds_out.attrs['author'] = 'Alice DuVivier'\n",
    "ds_out.attrs['date_processed'] = datetime.now().strftime('%Y-%m-%d')\n",
    "ds_out.attrs['contents'] = f'September {variable} in the Southern Ocean from 1950 to 2099. SIZ is defined as maximum sea ice extent in a year.'\n",
    "\n",
    "ds_out"
   ]
  },
  {
   "cell_type": "code",
   "execution_count": null,
   "id": "0c243124-1016-48e5-8b9c-8eb649ef3754",
   "metadata": {},
   "outputs": [],
   "source": [
    "# Print the dimensions\n",
    "print(\"Dimensions:\")\n",
    "for dim in ds_out.dims:\n",
    "    print(f\"\\t{dim}: {ds_out[dim].values.shape}\")\n",
    "\n",
    "# Print the coordinates\n",
    "print(\"Coordinates:\")\n",
    "for coord in ds_out.coords:\n",
    "    print(f\"\\t{coord}:\")\n",
    "    print(f\"\\t\\t{ds_out.coords[coord].values}\")\n",
    "    \n",
    "# Print the attributes\n",
    "print(\"Attributes:\")\n",
    "for attr in ds_out.attrs:\n",
    "    print(f\"\\t{attr}: {ds_out.attrs[attr]}\")\n",
    "    "
   ]
  },
  {
   "cell_type": "markdown",
   "id": "d3b11456-81b7-46fa-b356-e43034722d62",
   "metadata": {},
   "source": [
    "## Export and Save"
   ]
  },
  {
   "cell_type": "code",
   "execution_count": null,
   "id": "d567681b-b3eb-4f5e-b14b-2ec701fb2483",
   "metadata": {},
   "outputs": [],
   "source": [
    "# calculate the size of the dataset in GB\n",
    "size_gb = ds_out.nbytes / (1024**3)\n",
    "print(f\"The dataset is approximately {size_gb:.2f} GB.\")\n"
   ]
  },
  {
   "cell_type": "code",
   "execution_count": null,
   "id": "4e6fbad6-504b-414b-a615-0eb0fc63f14e",
   "metadata": {},
   "outputs": [],
   "source": [
    "path_out = '/glade/campaign/cgd/ppc/duvivier/cesm2_antarctic_polynya/mpa_analysis/DATA/ecoindex_data/seaice/'\n",
    "file_out = 'CESM2-LE-SIZ_SIC.nc'\n",
    "fout = path_out + file_out"
   ]
  },
  {
   "cell_type": "code",
   "execution_count": null,
   "id": "61d3d456-5ed3-467b-b555-8833d33e17cc",
   "metadata": {},
   "outputs": [],
   "source": [
    "# Export the dataset to NetCDF with all attributes and coordinates\n",
    "ds_out.to_netcdf(fout)"
   ]
  },
  {
   "cell_type": "code",
   "execution_count": null,
   "id": "88860263-a0ee-4d62-8a48-4bed3864c01d",
   "metadata": {},
   "outputs": [],
   "source": [
    "cluster.close()"
   ]
  },
  {
   "cell_type": "markdown",
   "id": "14c3f044-50c9-42b5-bee1-cb05d40153f6",
   "metadata": {},
   "source": [
    "## Test if it worked"
   ]
  },
  {
   "cell_type": "code",
   "execution_count": null,
   "id": "8d69ef6c-16e4-4599-84d4-6c812d0f6865",
   "metadata": {},
   "outputs": [],
   "source": [
    "import netCDF4\n",
    "nc = netCDF4.Dataset(fout)\n",
    "print(nc.variables)"
   ]
  },
  {
   "cell_type": "code",
   "execution_count": null,
   "id": "a54d7b6e-40aa-48b9-ad18-115db7ee2446",
   "metadata": {},
   "outputs": [],
   "source": [
    "path =  path_out\n",
    "ds_in =  xr.open_dataset(path_out+file_out, decode_times=True)"
   ]
  },
  {
   "cell_type": "code",
   "execution_count": null,
   "id": "37bbbd6b-12eb-4def-a1f9-5c6caf69cbf2",
   "metadata": {},
   "outputs": [],
   "source": [
    "ds_in.info()"
   ]
  },
  {
   "cell_type": "code",
   "execution_count": null,
   "id": "9c45eae0-6813-4e40-9dd8-3996fda926b5",
   "metadata": {},
   "outputs": [],
   "source": [
    "mem_5_ints = ds_in.SIZ_SEP.isel(member_id=5)\n",
    "\n",
    "fig, (ax1, ax2) = plt.subplots(ncols=2, figsize=(10, 4))\n",
    "\n",
    "mem_5_ints.isel(time=0).plot(ax=ax1)\n",
    "\n",
    "mem_5_ints.isel(time=-1).plot(ax=ax2)\n",
    "\n",
    "fig.suptitle(\"first and last SIZ\")\n",
    "\n",
    "plt.tight_layout()\n",
    "plt.show()"
   ]
  },
  {
   "cell_type": "code",
   "execution_count": null,
   "id": "596672b9-fc2a-4f98-8593-c0f8b9729e7d",
   "metadata": {},
   "outputs": [],
   "source": []
  }
 ],
 "metadata": {
  "kernelspec": {
   "display_name": "Python [conda env:miniconda3-analysis3]",
   "language": "python",
   "name": "conda-env-miniconda3-analysis3-py"
  },
  "language_info": {
   "codemirror_mode": {
    "name": "ipython",
    "version": 3
   },
   "file_extension": ".py",
   "mimetype": "text/x-python",
   "name": "python",
   "nbconvert_exporter": "python",
   "pygments_lexer": "ipython3",
   "version": "3.7.12"
  }
 },
 "nbformat": 4,
 "nbformat_minor": 5
}
